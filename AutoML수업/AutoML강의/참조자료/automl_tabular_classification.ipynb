{
  "cells": [
    {
      "cell_type": "code",
      "execution_count": null,
      "metadata": {
        "id": "copyright"
      },
      "outputs": [],
      "source": [
        "# Copyright 2021 Google LLC\n",
        "#\n",
        "# Licensed under the Apache License, Version 2.0 (the \"License\");\n",
        "# you may not use this file except in compliance with the License.\n",
        "# You may obtain a copy of the License at\n",
        "#\n",
        "#     https://www.apache.org/licenses/LICENSE-2.0\n",
        "#\n",
        "# Unless required by applicable law or agreed to in writing, software\n",
        "# distributed under the License is distributed on an \"AS IS\" BASIS,\n",
        "# WITHOUT WARRANTIES OR CONDITIONS OF ANY KIND, either express or implied.\n",
        "# See the License for the specific language governing permissions and\n",
        "# limitations under the License."
      ]
    },
    {
      "cell_type": "markdown",
      "metadata": {
        "id": "JAPoU8Sm5E6e"
      },
      "source": [
        "# Vertex AI SDK for Python: AutoML tabular training and prediction\n",
        "\n",
        "<table align=\"left\">\n",
        "  <td style=\"text-align: center\">\n",
        "    <a href=\"https://colab.research.google.com/github/GoogleCloudPlatform/vertex-ai-samples/blob/main/notebooks/official/automl/automl-tabular-classification.ipynb\">\n",
        "      <img src=\"https://cloud.google.com/ml-engine/images/colab-logo-32px.png\" alt=\"Google Colaboratory logo\"><br> Open in Colab\n",
        "    </a>\n",
        "  </td>\n",
        "  <td style=\"text-align: center\">\n",
        "    <a href=\"https://console.cloud.google.com/vertex-ai/colab/import/https:%2F%2Fraw.githubusercontent.com%2FGoogleCloudPlatform%2Fvertex-ai-samples%2Fmain%2Fnotebooks%2Fofficial%2Fautoml%2Fautoml-tabular-classification.ipynb\">\n",
        "      <img src=\"https://cloud.google.com/ml-engine/images/colab-enterprise-logo-32px.png\" alt=\"Google Cloud Colab Enterprise logo\"><br> Open in Colab Enterprise\n",
        "    </a>\n",
        "  </td>\n",
        "  <td style=\"text-align: center\">\n",
        "    <a href=\"https://github.com/GoogleCloudPlatform/vertex-ai-samples/blob/main/notebooks/official/automl/automl-tabular-classification.ipynb\">\n",
        "      <img src=\"https://cloud.google.com/ml-engine/images/github-logo-32px.png\" alt=\"GitHub logo\"><br> View on GitHub\n",
        "    </a>\n",
        "  </td>\n",
        "  <td style=\"text-align: center\">\n",
        "<a href=\"https://console.cloud.google.com/vertex-ai/workbench/deploy-notebook?download_url=https://raw.githubusercontent.com/GoogleCloudPlatform/vertex-ai-samples/main/notebooks/official/automl/automl-tabular-classification.ipynb\" target='_blank'>\n",
        "      <img src=\"https://lh3.googleusercontent.com/UiNooY4LUgW_oTvpsNhPpQzsstV5W8F7rYgxgGBD85cWJoLmrOzhVs_ksK_vgx40SHs7jCqkTkCk=e14-rj-sc0xffffff-h130-w32\" alt=\"Vertex AI logo\"><br> Open in Vertex AI Workbench\n",
        "     </a>\n",
        "   </td>\n",
        "</table>\n",
        "<br/><br/><br/>"
      ]
    },
    {
      "cell_type": "markdown",
      "metadata": {
        "id": "411c6c769293"
      },
      "source": [
        "## Overview\n",
        "\n",
        "This tutorial demonstrates how to use the Vertex AI Python client library to train and deploy a tabular classification model for online prediction.\n",
        "\n",
        "**Note**: you may incur charges for training, prediction, storage, or usage of other Google Cloud products in connection with testing this SDK.\n",
        "\n",
        "Learn more about [Classification for tabular data](https://cloud.google.com/vertex-ai/docs/tabular-data/classification-regression/overview)."
      ]
    },
    {
      "cell_type": "markdown",
      "metadata": {
        "id": "tvgnzT1CKxrO"
      },
      "source": [
        "### Objective\n",
        "\n",
        "In this tutorial, you learn how to train and make predictions on an AutoML model based on a tabular dataset. Alternatively, you can train and make predictions on models by using the `gcloud` command-line tool or by using the Google Cloud Console.\n",
        "\n",
        "This tutorial uses the following Google Cloud ML services and resources:\n",
        "\n",
        "- Vertex AI\n",
        "- AutoML Tabular\n",
        "\n",
        "The steps performed include the following:\n",
        "\n",
        "- Create a Vertex AI model training job.\n",
        "- Train an AutoML Tabular model.\n",
        "- Deploy the model resource to a serving endpoint resource.\n",
        "- Make a prediction by sending data.\n",
        "- Undeploy the model resource."
      ]
    },
    {
      "cell_type": "markdown",
      "metadata": {
        "id": "d87e05416046"
      },
      "source": [
        "### Dataset\n",
        "\n",
        "The dataset we are using is the PetFinder Dataset, available locally in Colab. To learn more about this dataset, visit https://www.kaggle.com/c/petfinder-adoption-prediction."
      ]
    },
    {
      "cell_type": "markdown",
      "metadata": {
        "id": "5e2eba58ad71"
      },
      "source": [
        "### Costs\n",
        "\n",
        "This tutorial uses billable components of Google Cloud:\n",
        "\n",
        "* Vertex AI\n",
        "* Cloud Storage\n",
        "\n",
        "Learn about [Vertex AI pricing](https://cloud.google.com/vertex-ai/pricing) and\n",
        "[Cloud Storage pricing](https://cloud.google.com/storage/pricing), and use the\n",
        "[Pricing Calculator](https://cloud.google.com/products/calculator/) to generate a cost estimate based on your projected usage."
      ]
    },
    {
      "cell_type": "markdown",
      "metadata": {
        "id": "install_aip"
      },
      "source": [
        "## Installation\n",
        "\n",
        "Install the packages required for executing this notebook."
      ]
    },
    {
      "cell_type": "code",
      "source": [
        "# 현재 설치된 파이썬 패키지 리스트를 확인\n",
        "# !pip list"
      ],
      "metadata": {
        "id": "eC0FTfgYzki3"
      },
      "execution_count": 3,
      "outputs": []
    },
    {
      "cell_type": "code",
      "execution_count": 2,
      "metadata": {
        "id": "PyQmSRbKA8r-"
      },
      "outputs": [],
      "source": [
        "# Install the packages\n",
        "! pip3 install --quiet --upgrade google-cloud-aiplatform \\\n",
        "                                 google-cloud-storage"
      ]
    },
    {
      "cell_type": "markdown",
      "metadata": {
        "id": "5eec42e37bcf"
      },
      "source": [
        "### Restart runtime (Colab only)\n",
        "To use the newly installed packages, you must restart the runtime on Google Colab."
      ]
    },
    {
      "cell_type": "code",
      "execution_count": 4,
      "metadata": {
        "id": "dcc98768955f"
      },
      "outputs": [],
      "source": [
        "import sys\n",
        "\n",
        "if \"google.colab\" in sys.modules:\n",
        "\n",
        "    import IPython\n",
        "\n",
        "    app = IPython.Application.instance()\n",
        "    app.kernel.do_shutdown(True)"
      ]
    },
    {
      "cell_type": "markdown",
      "metadata": {
        "id": "4de1bd77992b"
      },
      "source": [
        "<div class=\"alert alert-block alert-warning\">,\n",
        "<b>⚠️ The kernel is going to restart. Wait until it's finished before continuing to the next step. ⚠️</b>,\n",
        "</div>"
      ]
    },
    {
      "cell_type": "markdown",
      "metadata": {
        "id": "befa6ca14bc0"
      },
      "source": [
        "### Authenticate your notebook environment (Colab only)\n",
        "Authenticate your environment on Google Colab."
      ]
    },
    {
      "cell_type": "code",
      "execution_count": 3,
      "metadata": {
        "id": "7de6ef0fac42"
      },
      "outputs": [],
      "source": [
        "import sys\n",
        "\n",
        "if \"google.colab\" in sys.modules:\n",
        "\n",
        "    from google.colab import auth\n",
        "\n",
        "    auth.authenticate_user()"
      ]
    },
    {
      "cell_type": "markdown",
      "metadata": {
        "id": "80b8daedb2c6"
      },
      "source": [
        "### Set Google Cloud project information\n",
        "To get started using Vertex AI, you must have an existing Google Cloud project. Learn more about [setting up a project and a development environment.](https://cloud.google.com/vertex-ai/docs/start/cloud-environment)"
      ]
    },
    {
      "cell_type": "code",
      "execution_count": 4,
      "metadata": {
        "id": "575f9339da1d"
      },
      "outputs": [],
      "source": [
        "PROJECT_ID = \"automl-tabular-phj\"  # @param {type:\"string\"}\n",
        "LOCATION = \"us-central1\"  # @param {type:\"string\"}"
      ]
    },
    {
      "cell_type": "markdown",
      "metadata": {
        "id": "bucket:mbsdk"
      },
      "source": [
        "### Create a Cloud Storage bucket\n",
        "\n",
        "Create a storage bucket to store intermediate artifacts such as datasets."
      ]
    },
    {
      "cell_type": "code",
      "execution_count": 9,
      "metadata": {
        "id": "bucket"
      },
      "outputs": [],
      "source": [
        "# 버킷의 이름 지정\n",
        "BUCKET_URI = (\n",
        "    f\"gs://colab-bucket-phj\"  # @param {type:\"string\"}\n",
        ")"
      ]
    },
    {
      "cell_type": "markdown",
      "metadata": {
        "id": "create_bucket"
      },
      "source": [
        "**If your bucket doesn't already exist**: Run the following cell to create your Cloud Storage bucket."
      ]
    },
    {
      "cell_type": "code",
      "execution_count": 6,
      "metadata": {
        "id": "NBG5joyfs7HY",
        "colab": {
          "base_uri": "https://localhost:8080/"
        },
        "outputId": "7951cc85-4aa5-432e-9451-8837c31e0c7f"
      },
      "outputs": [
        {
          "output_type": "stream",
          "name": "stdout",
          "text": [
            "Creating gs://colab-bucket-phj-automl-tabular-phj-unique/...\n",
            "You are attempting to perform an operation that requires a project id, with none configured. Please re-run gsutil config and make sure to follow the instructions for finding and entering your default project id.\n"
          ]
        }
      ],
      "source": [
        "# 지정된 버킷 이름으로 버킷 생성\n",
        "#! gsutil mb -l $LOCATION $BUCKET_URI"
      ]
    },
    {
      "cell_type": "markdown",
      "metadata": {
        "id": "d89a66b8923f"
      },
      "source": [
        "### Copy dataset into your Cloud Storage bucket"
      ]
    },
    {
      "cell_type": "code",
      "execution_count": 12,
      "metadata": {
        "id": "59a46204cddb"
      },
      "outputs": [],
      "source": [
        "#IMPORT_FILE = \"petfinder-tabular-classification.csv\"\n",
        "#! gsutil cp gs://cloud-samples-data/ai-platform-unified/datasets/tabular/{IMPORT_FILE} {BUCKET_URI}/data/\n",
        "# gs://colab-bucket-phj/train.csv\n",
        "gcs_source = f\"gs://colab-bucket-phj/train.csv\""
      ]
    },
    {
      "cell_type": "markdown",
      "metadata": {
        "id": "Y9Uo3tifg1kx"
      },
      "source": [
        "### Import Vertex AI SDK for Python\n",
        "\n",
        "Import the Vertex AI SDK into your Python environment and initialize it."
      ]
    },
    {
      "cell_type": "code",
      "execution_count": 10,
      "metadata": {
        "id": "pRUOFELefqf1"
      },
      "outputs": [],
      "source": [
        "from google.cloud import aiplatform\n",
        "\n",
        "aiplatform.init(project=PROJECT_ID, location=LOCATION)"
      ]
    },
    {
      "cell_type": "markdown",
      "metadata": {
        "id": "643dfd86b00d"
      },
      "source": [
        "## Tutorial\n",
        "\n",
        "Now you're ready to create your AutoML Tabular model."
      ]
    },
    {
      "cell_type": "markdown",
      "metadata": {
        "id": "8f4f50a0112c"
      },
      "source": [
        "### Create a Managed tabular dataset from a CSV\n",
        "\n",
        "This section creates a dataset from a CSV file stored on your GCS bucket."
      ]
    },
    {
      "cell_type": "markdown",
      "source": [
        "![image.png](data:image/png;base64,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)"
      ],
      "metadata": {
        "id": "R6oaLeBD6EuF"
      }
    },
    {
      "cell_type": "code",
      "execution_count": 13,
      "metadata": {
        "id": "f1eef64ee47b",
        "colab": {
          "base_uri": "https://localhost:8080/",
          "height": 35
        },
        "outputId": "bf4d59c2-64dc-4190-ee7a-0ef9a6d120c7"
      },
      "outputs": [
        {
          "output_type": "execute_result",
          "data": {
            "text/plain": [
              "'projects/791614448068/locations/us-central1/datasets/327802349391183872'"
            ],
            "application/vnd.google.colaboratory.intrinsic+json": {
              "type": "string"
            }
          },
          "metadata": {},
          "execution_count": 13
        }
      ],
      "source": [
        "# Vertex AI의 데이터세트를 수행\n",
        "ds = dataset = aiplatform.TabularDataset.create(\n",
        "    display_name=\"petfinder-tabular-dataset\",\n",
        "    gcs_source=gcs_source,\n",
        ")\n",
        "\n",
        "ds.resource_name"
      ]
    },
    {
      "cell_type": "markdown",
      "metadata": {
        "id": "ba5011d50ac7"
      },
      "source": [
        "### Launch a training job to create a model\n",
        "\n",
        "Once you've defined your training script, you'll create a model. The `run` function creates a training pipeline that trains and creates a model object. After the training pipeline completes, the `run` function returns the model object."
      ]
    },
    {
      "cell_type": "code",
      "execution_count": null,
      "metadata": {
        "id": "24c2c081d683"
      },
      "outputs": [],
      "source": [
        "job = aiplatform.AutoMLTabularTrainingJob(\n",
        "    display_name=\"train-petfinder-automl-1\",\n",
        "    optimization_prediction_type=\"classification\",\n",
        "    column_transformations=[\n",
        "        {\"categorical\": {\"column_name\": \"Type\"}},\n",
        "        {\"numeric\": {\"column_name\": \"Age\"}},\n",
        "        {\"categorical\": {\"column_name\": \"Breed1\"}},\n",
        "        {\"categorical\": {\"column_name\": \"Color1\"}},\n",
        "        {\"categorical\": {\"column_name\": \"Color2\"}},\n",
        "        {\"categorical\": {\"column_name\": \"MaturitySize\"}},\n",
        "        {\"categorical\": {\"column_name\": \"FurLength\"}},\n",
        "        {\"categorical\": {\"column_name\": \"Vaccinated\"}},\n",
        "        {\"categorical\": {\"column_name\": \"Sterilized\"}},\n",
        "        {\"categorical\": {\"column_name\": \"Health\"}},\n",
        "        {\"numeric\": {\"column_name\": \"Fee\"}},\n",
        "        {\"numeric\": {\"column_name\": \"PhotoAmt\"}},\n",
        "    ],\n",
        ")\n",
        "\n",
        "# This takes about an hour to run\n",
        "model = job.run(\n",
        "    dataset=ds,\n",
        "    target_column=\"AdoptionSpeed\",\n",
        "    training_fraction_split=0.8,\n",
        "    validation_fraction_split=0.1,\n",
        "    test_fraction_split=0.1,\n",
        "    model_display_name=\"adopted-prediction-model\",\n",
        "    disable_early_stopping=False,\n",
        ")"
      ]
    },
    {
      "cell_type": "markdown",
      "metadata": {
        "id": "93a4d034c73b"
      },
      "source": [
        "### Deploy your model\n",
        "\n",
        "Before you use your model to make predictions, you need to deploy it to an endpoint. You can do this by calling the `deploy` function on the model resource. This function does two things:\n",
        "\n",
        "1. Creates an endpoint resource to which the model resource is deployed.\n",
        "2. Deploys the model resource to the endpoint resource.\n",
        "\n",
        "Deploy your model.\n",
        "\n",
        "### NOTE: Wait until the model **FINISHES** deployment before proceeding to prediction."
      ]
    },
    {
      "cell_type": "code",
      "execution_count": null,
      "metadata": {
        "id": "a371544057d9"
      },
      "outputs": [],
      "source": [
        "endpoint = model.deploy(\n",
        "    machine_type=\"n1-standard-4\",\n",
        ")"
      ]
    },
    {
      "cell_type": "markdown",
      "metadata": {
        "id": "fd44380b9ae3"
      },
      "source": [
        "### Predict on the endpoint\n"
      ]
    },
    {
      "cell_type": "markdown",
      "metadata": {
        "id": "13f3e8aa27c0"
      },
      "source": [
        "* This sample instance is taken from an observation in which `Adopted` = **Yes**\n",
        "* Note that the values are all strings. Since the original data was in CSV format, everything is treated as a string. The transformations you defined when creating your `AutoMLTabularTrainingJob` inform Vertex AI to transform the inputs to their defined types.\n"
      ]
    },
    {
      "cell_type": "code",
      "execution_count": null,
      "metadata": {
        "id": "00c0d01dc8ae"
      },
      "outputs": [],
      "source": [
        "prediction = endpoint.predict(\n",
        "    [\n",
        "        {\n",
        "            \"Type\": \"Cat\",\n",
        "            \"Age\": \"3\",\n",
        "            \"Breed1\": \"Tabby\",\n",
        "            \"Gender\": \"Male\",\n",
        "            \"Color1\": \"Black\",\n",
        "            \"Color2\": \"White\",\n",
        "            \"MaturitySize\": \"Small\",\n",
        "            \"FurLength\": \"Short\",\n",
        "            \"Vaccinated\": \"No\",\n",
        "            \"Sterilized\": \"No\",\n",
        "            \"Health\": \"Healthy\",\n",
        "            \"Fee\": \"100\",\n",
        "            \"PhotoAmt\": \"2\",\n",
        "        }\n",
        "    ]\n",
        ")\n",
        "\n",
        "print(prediction)"
      ]
    },
    {
      "cell_type": "markdown",
      "metadata": {
        "id": "154258dfb12f"
      },
      "source": [
        "### Undeploy the model\n",
        "\n",
        "To undeploy your model resource from the serving endpoint resource, use the endpoint's `undeploy` method with the following parameter:\n",
        "\n",
        "- `deployed_model_id`: The model deployment identifier returned by the prediction service when the model resource is deployed. You can retrieve the `deployed_model_id` using the prediction object's `deployed_model_id` property."
      ]
    },
    {
      "cell_type": "code",
      "execution_count": null,
      "metadata": {
        "id": "186856f896fc"
      },
      "outputs": [],
      "source": [
        "endpoint.undeploy(deployed_model_id=prediction.deployed_model_id)"
      ]
    },
    {
      "cell_type": "markdown",
      "metadata": {
        "id": "d7d2aa967f46"
      },
      "source": [
        "# Cleaning up\n",
        "\n",
        "To clean up all Google Cloud resources used in this project, you can [delete the Google Cloud project](https://cloud.google.com/resource-manager/docs/creating-managing-projects#shutting_down_projects) you used for the tutorial.\n",
        "\n",
        "Otherwise, you can delete the individual resources you created in this tutorial:\n",
        "\n",
        "- Training Job\n",
        "- Model\n",
        "- Endpoint\n",
        "- Cloud Storage Bucket\n",
        "\n",
        "**Note**: You must delete any model resources deployed to the endpoint resource before deleting the endpoint resource."
      ]
    },
    {
      "cell_type": "code",
      "execution_count": null,
      "metadata": {
        "id": "1a9c201f8589"
      },
      "outputs": [],
      "source": [
        "# Warning: Setting this to true will delete everything in your bucket\n",
        "delete_bucket = False\n",
        "\n",
        "# Delete the training job\n",
        "job.delete()\n",
        "\n",
        "# Delete the model\n",
        "model.delete()\n",
        "\n",
        "# Delete the endpoint\n",
        "endpoint.delete()\n",
        "\n",
        "if delete_bucket:\n",
        "    ! gsutil -m rm -r $BUCKET_URI"
      ]
    }
  ],
  "metadata": {
    "colab": {
      "provenance": []
    },
    "kernelspec": {
      "display_name": "Python 3",
      "name": "python3"
    }
  },
  "nbformat": 4,
  "nbformat_minor": 0
}